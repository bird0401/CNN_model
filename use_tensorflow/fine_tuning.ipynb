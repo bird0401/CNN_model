{
  "nbformat": 4,
  "nbformat_minor": 0,
  "metadata": {
    "colab": {
      "name": "fine_tuning.ipynb",
      "provenance": [],
      "mount_file_id": "1stSVaNzyE55Ab8AhyuvSyL4OOM0Oc6nP",
      "authorship_tag": "ABX9TyOkzAHIzDuALiESpfKncxqk",
      "include_colab_link": true
    },
    "kernelspec": {
      "name": "python3",
      "display_name": "Python 3"
    },
    "language_info": {
      "name": "python"
    },
    "accelerator": "GPU"
  },
  "cells": [
    {
      "cell_type": "markdown",
      "metadata": {
        "id": "view-in-github",
        "colab_type": "text"
      },
      "source": [
        "<a href=\"https://colab.research.google.com/github/mot1122/CNN_model/blob/main/fine_tuning.ipynb\" target=\"_parent\"><img src=\"https://colab.research.google.com/assets/colab-badge.svg\" alt=\"Open In Colab\"/></a>"
      ]
    },
    {
      "cell_type": "markdown",
      "source": [
        "# Fine Tuning\n",
        "## Baseline"
      ],
      "metadata": {
        "id": "N0rE8mnNpi79"
      }
    },
    {
      "cell_type": "code",
      "source": [
        "import os,random\n",
        "\n",
        "import numpy as np\n",
        "import pandas as pd\n",
        "import matplotlib.pyplot as plt\n",
        "\n",
        "import tensorflow as tf\n",
        "from tensorflow.python.client import device_lib\n",
        "from tensorflow.keras import models,layers\n",
        "import cv2\n",
        "from PIL import Image"
      ],
      "metadata": {
        "id": "Ts3DwO0Y3iie"
      },
      "execution_count": 2,
      "outputs": []
    },
    {
      "cell_type": "code",
      "source": [
        "train,test=tf.keras.datasets.cifar10.load_data()"
      ],
      "metadata": {
        "colab": {
          "base_uri": "https://localhost:8080/"
        },
        "id": "NhLsLIhkpqW5",
        "outputId": "3cf9e9cb-1da7-4da5-fd5e-2782189c9af1"
      },
      "execution_count": 3,
      "outputs": [
        {
          "output_type": "stream",
          "name": "stdout",
          "text": [
            "Downloading data from https://www.cs.toronto.edu/~kriz/cifar-10-python.tar.gz\n",
            "170500096/170498071 [==============================] - 13s 0us/step\n",
            "170508288/170498071 [==============================] - 13s 0us/step\n"
          ]
        }
      ]
    },
    {
      "cell_type": "code",
      "source": [
        "train[0].shape, train[1].shape"
      ],
      "metadata": {
        "colab": {
          "base_uri": "https://localhost:8080/"
        },
        "id": "PhXZnmDvt0-S",
        "outputId": "3c478cfe-18cf-4146-df40-88dc8c914f47"
      },
      "execution_count": 4,
      "outputs": [
        {
          "output_type": "execute_result",
          "data": {
            "text/plain": [
              "((50000, 32, 32, 3), (50000, 1))"
            ]
          },
          "metadata": {},
          "execution_count": 4
        }
      ]
    },
    {
      "cell_type": "code",
      "source": [
        "test[0].shape, test[1].shape"
      ],
      "metadata": {
        "colab": {
          "base_uri": "https://localhost:8080/"
        },
        "id": "IcXeL1rQt5Ig",
        "outputId": "b9d84987-d774-4e66-e4be-038731b49afb"
      },
      "execution_count": 5,
      "outputs": [
        {
          "output_type": "execute_result",
          "data": {
            "text/plain": [
              "((10000, 32, 32, 3), (10000, 1))"
            ]
          },
          "metadata": {},
          "execution_count": 5
        }
      ]
    },
    {
      "cell_type": "code",
      "source": [
        "X_train,y_train=train\n",
        "X_test,y_test=test"
      ],
      "metadata": {
        "id": "QHOACo9zuTMX"
      },
      "execution_count": 6,
      "outputs": []
    },
    {
      "cell_type": "code",
      "source": [
        "X_train,X_test=X_train/255,X_test/255"
      ],
      "metadata": {
        "id": "iWI5YAAXujxO"
      },
      "execution_count": 7,
      "outputs": []
    },
    {
      "cell_type": "code",
      "source": [
        "X_train,y_train=X_train.astype(\"float16\"),y_train.astype(\"float16\")\n",
        "X_test,y_test=X_test.astype(\"int8\"),y_test.astype(\"int8\"),"
      ],
      "metadata": {
        "id": "hV4jFYiYutn6"
      },
      "execution_count": 8,
      "outputs": []
    },
    {
      "cell_type": "code",
      "source": [
        "def reset_seed(seed=0):\n",
        "  os.environ[\"PYTHONHASHSEED\"]=\"0\"\n",
        "  random.seed(seed)\n",
        "  np.random.seed(seed)\n",
        "  tf.random.set_seed(seed)"
      ],
      "metadata": {
        "id": "6HbzZ5r338fU"
      },
      "execution_count": 9,
      "outputs": []
    },
    {
      "cell_type": "code",
      "source": [
        "reset_seed(0)\n",
        "model=models.Sequential([\n",
        "  layers.Conv2D(filters=3,kernel_size=(3,3),activation=\"relu\",input_shape=(32, 32, 3)),\n",
        "  layers.MaxPool2D(pool_size=(2,2)),\n",
        "  layers.Flatten(),\n",
        "  layers.Dense(100,activation=\"relu\"),\n",
        "  layers.Dense(10,activation=\"softmax\")                       \n",
        "])"
      ],
      "metadata": {
        "id": "cZlAVA1cu7Rr"
      },
      "execution_count": 10,
      "outputs": []
    },
    {
      "cell_type": "code",
      "source": [
        "model.summary()"
      ],
      "metadata": {
        "colab": {
          "base_uri": "https://localhost:8080/"
        },
        "id": "btMkQOnQv2Qc",
        "outputId": "b8e29c83-0dc4-4123-aa82-8504c9a7eff0"
      },
      "execution_count": 11,
      "outputs": [
        {
          "output_type": "stream",
          "name": "stdout",
          "text": [
            "Model: \"sequential\"\n",
            "_________________________________________________________________\n",
            " Layer (type)                Output Shape              Param #   \n",
            "=================================================================\n",
            " conv2d (Conv2D)             (None, 30, 30, 3)         84        \n",
            "                                                                 \n",
            " max_pooling2d (MaxPooling2D  (None, 15, 15, 3)        0         \n",
            " )                                                               \n",
            "                                                                 \n",
            " flatten (Flatten)           (None, 675)               0         \n",
            "                                                                 \n",
            " dense (Dense)               (None, 100)               67600     \n",
            "                                                                 \n",
            " dense_1 (Dense)             (None, 10)                1010      \n",
            "                                                                 \n",
            "=================================================================\n",
            "Total params: 68,694\n",
            "Trainable params: 68,694\n",
            "Non-trainable params: 0\n",
            "_________________________________________________________________\n"
          ]
        }
      ]
    },
    {
      "cell_type": "code",
      "source": [
        "optimizer=tf.keras.optimizers.Adam(lr=0.01)"
      ],
      "metadata": {
        "colab": {
          "base_uri": "https://localhost:8080/"
        },
        "id": "B-UIMPgmv4RK",
        "outputId": "1b8567d8-2cf7-46ca-8045-0581132de43e"
      },
      "execution_count": 12,
      "outputs": [
        {
          "output_type": "stream",
          "name": "stderr",
          "text": [
            "/usr/local/lib/python3.7/dist-packages/keras/optimizer_v2/adam.py:105: UserWarning: The `lr` argument is deprecated, use `learning_rate` instead.\n",
            "  super(Adam, self).__init__(name, **kwargs)\n"
          ]
        }
      ]
    },
    {
      "cell_type": "code",
      "source": [
        "model.compile(optimizer=optimizer,\n",
        "              loss=\"sparse_categorical_crossentropy\",\n",
        "              metrics=[\"accuracy\"])"
      ],
      "metadata": {
        "id": "jtSktm8vwFsv"
      },
      "execution_count": 13,
      "outputs": []
    },
    {
      "cell_type": "code",
      "source": [
        "batch_size=4096\n",
        "epochs=10\n",
        "history=model.fit(X_train,y_train,\n",
        "                  batch_size=batch_size,epochs=epochs,\n",
        "                  validation_data=(X_test,y_test))"
      ],
      "metadata": {
        "colab": {
          "base_uri": "https://localhost:8080/"
        },
        "id": "E9ltiomKwUBL",
        "outputId": "64f67307-1438-4c7e-8592-aae6b4f6e62d"
      },
      "execution_count": 14,
      "outputs": [
        {
          "output_type": "stream",
          "name": "stdout",
          "text": [
            "Epoch 1/10\n",
            "13/13 [==============================] - 5s 75ms/step - loss: 2.1486 - accuracy: 0.2157 - val_loss: 2.6526 - val_accuracy: 0.1199\n",
            "Epoch 2/10\n",
            "13/13 [==============================] - 0s 36ms/step - loss: 1.8429 - accuracy: 0.3538 - val_loss: 3.2310 - val_accuracy: 0.1163\n",
            "Epoch 3/10\n",
            "13/13 [==============================] - 1s 39ms/step - loss: 1.6617 - accuracy: 0.4100 - val_loss: 3.6797 - val_accuracy: 0.1114\n",
            "Epoch 4/10\n",
            "13/13 [==============================] - 0s 36ms/step - loss: 1.5690 - accuracy: 0.4396 - val_loss: 3.9085 - val_accuracy: 0.1136\n",
            "Epoch 5/10\n",
            "13/13 [==============================] - 0s 37ms/step - loss: 1.4936 - accuracy: 0.4677 - val_loss: 3.9951 - val_accuracy: 0.1112\n",
            "Epoch 6/10\n",
            "13/13 [==============================] - 0s 36ms/step - loss: 1.4394 - accuracy: 0.4876 - val_loss: 4.1002 - val_accuracy: 0.1149\n",
            "Epoch 7/10\n",
            "13/13 [==============================] - 0s 36ms/step - loss: 1.4140 - accuracy: 0.4949 - val_loss: 4.1034 - val_accuracy: 0.1143\n",
            "Epoch 8/10\n",
            "13/13 [==============================] - 0s 35ms/step - loss: 1.3821 - accuracy: 0.5088 - val_loss: 4.0223 - val_accuracy: 0.1168\n",
            "Epoch 9/10\n",
            "13/13 [==============================] - 0s 35ms/step - loss: 1.3207 - accuracy: 0.5323 - val_loss: 4.0956 - val_accuracy: 0.1153\n",
            "Epoch 10/10\n",
            "13/13 [==============================] - 0s 35ms/step - loss: 1.2911 - accuracy: 0.5396 - val_loss: 4.1832 - val_accuracy: 0.1150\n"
          ]
        }
      ]
    },
    {
      "cell_type": "code",
      "source": [
        "!nvidia-smi"
      ],
      "metadata": {
        "colab": {
          "base_uri": "https://localhost:8080/"
        },
        "id": "ePElCQrqwuQr",
        "outputId": "504a7239-aaf3-4663-8bd2-b951c59ce8b8"
      },
      "execution_count": 15,
      "outputs": [
        {
          "output_type": "stream",
          "name": "stdout",
          "text": [
            "Sun Mar 13 11:40:39 2022       \n",
            "+-----------------------------------------------------------------------------+\n",
            "| NVIDIA-SMI 460.32.03    Driver Version: 460.32.03    CUDA Version: 11.2     |\n",
            "|-------------------------------+----------------------+----------------------+\n",
            "| GPU  Name        Persistence-M| Bus-Id        Disp.A | Volatile Uncorr. ECC |\n",
            "| Fan  Temp  Perf  Pwr:Usage/Cap|         Memory-Usage | GPU-Util  Compute M. |\n",
            "|                               |                      |               MIG M. |\n",
            "|===============================+======================+======================|\n",
            "|   0  Tesla T4            Off  | 00000000:00:04.0 Off |                    0 |\n",
            "| N/A   45C    P0    32W /  70W |   1816MiB / 15109MiB |      0%      Default |\n",
            "|                               |                      |                  N/A |\n",
            "+-------------------------------+----------------------+----------------------+\n",
            "                                                                               \n",
            "+-----------------------------------------------------------------------------+\n",
            "| Processes:                                                                  |\n",
            "|  GPU   GI   CI        PID   Type   Process name                  GPU Memory |\n",
            "|        ID   ID                                                   Usage      |\n",
            "|=============================================================================|\n",
            "+-----------------------------------------------------------------------------+\n"
          ]
        }
      ]
    },
    {
      "cell_type": "markdown",
      "source": [
        "## FIne tuned VGG16"
      ],
      "metadata": {
        "id": "i13RmLhPy57f"
      }
    },
    {
      "cell_type": "code",
      "source": [
        "from tensorflow.keras.applications import resnet,VGG16"
      ],
      "metadata": {
        "id": "cB7MHKiKzL10"
      },
      "execution_count": 16,
      "outputs": []
    },
    {
      "cell_type": "code",
      "source": [
        "base_model=VGG16(input_shape=(224,224,3),include_top=False,weights=\"imagenet\")"
      ],
      "metadata": {
        "colab": {
          "base_uri": "https://localhost:8080/"
        },
        "id": "tEFqeyZ92zwO",
        "outputId": "f0002faf-5728-493c-8b43-b38ae9b7b583"
      },
      "execution_count": 17,
      "outputs": [
        {
          "output_type": "stream",
          "name": "stdout",
          "text": [
            "Downloading data from https://storage.googleapis.com/tensorflow/keras-applications/vgg16/vgg16_weights_tf_dim_ordering_tf_kernels_notop.h5\n",
            "58892288/58889256 [==============================] - 2s 0us/step\n",
            "58900480/58889256 [==============================] - 2s 0us/step\n"
          ]
        }
      ]
    },
    {
      "cell_type": "code",
      "source": [
        "base_model.summary()"
      ],
      "metadata": {
        "colab": {
          "base_uri": "https://localhost:8080/"
        },
        "id": "QA2HwLAq5jra",
        "outputId": "bf4d38df-45bf-411b-9b33-646ee6693d34"
      },
      "execution_count": 18,
      "outputs": [
        {
          "output_type": "stream",
          "name": "stdout",
          "text": [
            "Model: \"vgg16\"\n",
            "_________________________________________________________________\n",
            " Layer (type)                Output Shape              Param #   \n",
            "=================================================================\n",
            " input_1 (InputLayer)        [(None, 224, 224, 3)]     0         \n",
            "                                                                 \n",
            " block1_conv1 (Conv2D)       (None, 224, 224, 64)      1792      \n",
            "                                                                 \n",
            " block1_conv2 (Conv2D)       (None, 224, 224, 64)      36928     \n",
            "                                                                 \n",
            " block1_pool (MaxPooling2D)  (None, 112, 112, 64)      0         \n",
            "                                                                 \n",
            " block2_conv1 (Conv2D)       (None, 112, 112, 128)     73856     \n",
            "                                                                 \n",
            " block2_conv2 (Conv2D)       (None, 112, 112, 128)     147584    \n",
            "                                                                 \n",
            " block2_pool (MaxPooling2D)  (None, 56, 56, 128)       0         \n",
            "                                                                 \n",
            " block3_conv1 (Conv2D)       (None, 56, 56, 256)       295168    \n",
            "                                                                 \n",
            " block3_conv2 (Conv2D)       (None, 56, 56, 256)       590080    \n",
            "                                                                 \n",
            " block3_conv3 (Conv2D)       (None, 56, 56, 256)       590080    \n",
            "                                                                 \n",
            " block3_pool (MaxPooling2D)  (None, 28, 28, 256)       0         \n",
            "                                                                 \n",
            " block4_conv1 (Conv2D)       (None, 28, 28, 512)       1180160   \n",
            "                                                                 \n",
            " block4_conv2 (Conv2D)       (None, 28, 28, 512)       2359808   \n",
            "                                                                 \n",
            " block4_conv3 (Conv2D)       (None, 28, 28, 512)       2359808   \n",
            "                                                                 \n",
            " block4_pool (MaxPooling2D)  (None, 14, 14, 512)       0         \n",
            "                                                                 \n",
            " block5_conv1 (Conv2D)       (None, 14, 14, 512)       2359808   \n",
            "                                                                 \n",
            " block5_conv2 (Conv2D)       (None, 14, 14, 512)       2359808   \n",
            "                                                                 \n",
            " block5_conv3 (Conv2D)       (None, 14, 14, 512)       2359808   \n",
            "                                                                 \n",
            " block5_pool (MaxPooling2D)  (None, 7, 7, 512)         0         \n",
            "                                                                 \n",
            "=================================================================\n",
            "Total params: 14,714,688\n",
            "Trainable params: 14,714,688\n",
            "Non-trainable params: 0\n",
            "_________________________________________________________________\n"
          ]
        }
      ]
    },
    {
      "cell_type": "code",
      "source": [
        "# RAMクラッシュ防止のため少なめに設定\n",
        "train_choice=np.random.randint(low=0,high=50000,size=3000)\n",
        "test_choice=np.random.randint(low=0,high=10000,size=500)"
      ],
      "metadata": {
        "id": "ar9ihN265k5f"
      },
      "execution_count": 19,
      "outputs": []
    },
    {
      "cell_type": "code",
      "source": [
        "X_train,y_train=train\n",
        "X_test,y_test=test"
      ],
      "metadata": {
        "id": "NDQLDkd17anw"
      },
      "execution_count": 20,
      "outputs": []
    },
    {
      "cell_type": "code",
      "source": [
        "X_train,y_train=X_train[train_choice],y_train[train_choice].astype(\"int8\")\n",
        "X_test,y_test=X_test[test_choice],y_test[test_choice].astype(\"int8\")"
      ],
      "metadata": {
        "id": "aAKoCDCO8pHt"
      },
      "execution_count": 21,
      "outputs": []
    },
    {
      "cell_type": "code",
      "source": [
        "_train,_test=[],[]\n",
        "for img in X_train:\n",
        "  _train.append(cv2.resize(src=img,dsize=(224,224)))\n",
        "for img in X_test:\n",
        "  _test.append(cv2.resize(src=img,dsize=(224,224)))"
      ],
      "metadata": {
        "id": "AXGBbzO188pb"
      },
      "execution_count": 22,
      "outputs": []
    },
    {
      "cell_type": "code",
      "source": [
        "X_train=np.array(_train,dtype=\"float16\")/255\n",
        "X_test=np.array(_test,dtype=\"float16\")/255"
      ],
      "metadata": {
        "id": "OL3QuIsK9KdH"
      },
      "execution_count": 23,
      "outputs": []
    },
    {
      "cell_type": "code",
      "source": [
        "X_train.shape,X_test.shape"
      ],
      "metadata": {
        "colab": {
          "base_uri": "https://localhost:8080/"
        },
        "id": "IHd7JTjg9tkT",
        "outputId": "4c656b5c-e9c0-40fc-ce3e-04ccbe3fd635"
      },
      "execution_count": 24,
      "outputs": [
        {
          "output_type": "execute_result",
          "data": {
            "text/plain": [
              "((3000, 224, 224, 3), (500, 224, 224, 3))"
            ]
          },
          "metadata": {},
          "execution_count": 24
        }
      ]
    },
    {
      "cell_type": "code",
      "source": [
        "reset_seed(0)\n",
        "finetuned_model=models.Sequential([\n",
        "  base_model,\n",
        "  layers.GlobalAveragePooling2D(),\n",
        "  layers.Dense(512,activation=\"relu\"),\n",
        "  layers.Dense(10,activation=\"softmax\")\n",
        "])"
      ],
      "metadata": {
        "id": "QyDTpkxp_IMw"
      },
      "execution_count": 25,
      "outputs": []
    },
    {
      "cell_type": "code",
      "source": [
        "optimizer=tf.keras.optimizers.SGD(lr=0.01)\n",
        "finetuned_model.compile(\n",
        "    optimizer=optimizer,\n",
        "    loss=\"sparse_categorical_crossentropy\",\n",
        "    metrics=[\"accuracy\"]\n",
        "    )"
      ],
      "metadata": {
        "colab": {
          "base_uri": "https://localhost:8080/"
        },
        "id": "2Kv8-8cp9wP3",
        "outputId": "836c1592-f715-4388-e692-6d22e759df24"
      },
      "execution_count": 26,
      "outputs": [
        {
          "output_type": "stream",
          "name": "stderr",
          "text": [
            "/usr/local/lib/python3.7/dist-packages/keras/optimizer_v2/gradient_descent.py:102: UserWarning: The `lr` argument is deprecated, use `learning_rate` instead.\n",
            "  super(SGD, self).__init__(name, **kwargs)\n"
          ]
        }
      ]
    },
    {
      "cell_type": "code",
      "source": [
        "finetuned_model.summary()"
      ],
      "metadata": {
        "colab": {
          "base_uri": "https://localhost:8080/"
        },
        "id": "I77qqJF4_DPa",
        "outputId": "d91fe747-f9d6-4882-a8ce-0e39982d04cf"
      },
      "execution_count": 27,
      "outputs": [
        {
          "output_type": "stream",
          "name": "stdout",
          "text": [
            "Model: \"sequential_1\"\n",
            "_________________________________________________________________\n",
            " Layer (type)                Output Shape              Param #   \n",
            "=================================================================\n",
            " vgg16 (Functional)          (None, 7, 7, 512)         14714688  \n",
            "                                                                 \n",
            " global_average_pooling2d (G  (None, 512)              0         \n",
            " lobalAveragePooling2D)                                          \n",
            "                                                                 \n",
            " dense_2 (Dense)             (None, 512)               262656    \n",
            "                                                                 \n",
            " dense_3 (Dense)             (None, 10)                5130      \n",
            "                                                                 \n",
            "=================================================================\n",
            "Total params: 14,982,474\n",
            "Trainable params: 14,982,474\n",
            "Non-trainable params: 0\n",
            "_________________________________________________________________\n"
          ]
        }
      ]
    },
    {
      "cell_type": "code",
      "source": [
        "loss,accuracy=finetuned_model.evaluate(X_test,y_test)"
      ],
      "metadata": {
        "colab": {
          "base_uri": "https://localhost:8080/"
        },
        "id": "YDxlHBZa_iJ-",
        "outputId": "f9b506fc-41b8-4752-e11b-ad124c8b3e70"
      },
      "execution_count": 28,
      "outputs": [
        {
          "output_type": "stream",
          "name": "stdout",
          "text": [
            "16/16 [==============================] - 7s 259ms/step - loss: 2.4414 - accuracy: 0.0980\n"
          ]
        }
      ]
    },
    {
      "cell_type": "code",
      "source": [
        "print(f\"loss:{loss:.2f},accuracy:{accuracy:.2f}\")"
      ],
      "metadata": {
        "colab": {
          "base_uri": "https://localhost:8080/"
        },
        "id": "0B7PIlGV_qMb",
        "outputId": "bb16364d-fc22-4494-b263-8f5edccdedb2"
      },
      "execution_count": 29,
      "outputs": [
        {
          "output_type": "stream",
          "name": "stdout",
          "text": [
            "loss:2.44,accuracy:0.10\n"
          ]
        }
      ]
    },
    {
      "cell_type": "code",
      "source": [
        "history=finetuned_model.fit(X_train,y_train,\n",
        "                            epochs=10,\n",
        "                            batch_size=32,\n",
        "                            validation_data=(X_test,y_test))"
      ],
      "metadata": {
        "colab": {
          "base_uri": "https://localhost:8080/"
        },
        "id": "ENbm6Odz_v9q",
        "outputId": "1852fb89-0e06-49c1-af27-00eb275753ba"
      },
      "execution_count": 30,
      "outputs": [
        {
          "output_type": "stream",
          "name": "stdout",
          "text": [
            "Epoch 1/10\n",
            "94/94 [==============================] - 50s 480ms/step - loss: 2.2545 - accuracy: 0.1497 - val_loss: 2.1561 - val_accuracy: 0.2080\n",
            "Epoch 2/10\n",
            "94/94 [==============================] - 40s 431ms/step - loss: 2.1280 - accuracy: 0.2287 - val_loss: 2.2725 - val_accuracy: 0.2160\n",
            "Epoch 3/10\n",
            "94/94 [==============================] - 41s 436ms/step - loss: 2.0291 - accuracy: 0.2577 - val_loss: 1.6770 - val_accuracy: 0.4240\n",
            "Epoch 4/10\n",
            "94/94 [==============================] - 41s 441ms/step - loss: 1.8160 - accuracy: 0.3473 - val_loss: 1.5032 - val_accuracy: 0.5320\n",
            "Epoch 5/10\n",
            "94/94 [==============================] - 42s 444ms/step - loss: 1.5322 - accuracy: 0.4627 - val_loss: 1.3343 - val_accuracy: 0.5740\n",
            "Epoch 6/10\n",
            "94/94 [==============================] - 42s 446ms/step - loss: 1.6476 - accuracy: 0.4080 - val_loss: 2.2679 - val_accuracy: 0.1560\n",
            "Epoch 7/10\n",
            "94/94 [==============================] - 42s 452ms/step - loss: 1.5732 - accuracy: 0.4257 - val_loss: 0.9790 - val_accuracy: 0.6600\n",
            "Epoch 8/10\n",
            "94/94 [==============================] - 43s 453ms/step - loss: 1.1649 - accuracy: 0.5977 - val_loss: 1.5269 - val_accuracy: 0.4820\n",
            "Epoch 9/10\n",
            "94/94 [==============================] - 42s 451ms/step - loss: 0.9682 - accuracy: 0.6627 - val_loss: 1.2740 - val_accuracy: 0.5940\n",
            "Epoch 10/10\n",
            "94/94 [==============================] - 42s 452ms/step - loss: 0.9492 - accuracy: 0.6780 - val_loss: 1.3673 - val_accuracy: 0.5040\n"
          ]
        }
      ]
    },
    {
      "cell_type": "code",
      "source": [
        "results=pd.DataFrame(history.history)\n",
        "results.tail(5)"
      ],
      "metadata": {
        "colab": {
          "base_uri": "https://localhost:8080/",
          "height": 206
        },
        "id": "eXwMIER_AAxc",
        "outputId": "5982c187-e456-4f81-dc0a-26cf9db5c2b0"
      },
      "execution_count": 31,
      "outputs": [
        {
          "output_type": "execute_result",
          "data": {
            "text/plain": [
              "       loss  accuracy  val_loss  val_accuracy\n",
              "5  1.647586  0.408000  2.267871         0.156\n",
              "6  1.573223  0.425667  0.978958         0.660\n",
              "7  1.164893  0.597667  1.526910         0.482\n",
              "8  0.968224  0.662667  1.273956         0.594\n",
              "9  0.949160  0.678000  1.367350         0.504"
            ],
            "text/html": [
              "\n",
              "  <div id=\"df-47cfcb20-2974-48ef-9532-ad2cbe08b90e\">\n",
              "    <div class=\"colab-df-container\">\n",
              "      <div>\n",
              "<style scoped>\n",
              "    .dataframe tbody tr th:only-of-type {\n",
              "        vertical-align: middle;\n",
              "    }\n",
              "\n",
              "    .dataframe tbody tr th {\n",
              "        vertical-align: top;\n",
              "    }\n",
              "\n",
              "    .dataframe thead th {\n",
              "        text-align: right;\n",
              "    }\n",
              "</style>\n",
              "<table border=\"1\" class=\"dataframe\">\n",
              "  <thead>\n",
              "    <tr style=\"text-align: right;\">\n",
              "      <th></th>\n",
              "      <th>loss</th>\n",
              "      <th>accuracy</th>\n",
              "      <th>val_loss</th>\n",
              "      <th>val_accuracy</th>\n",
              "    </tr>\n",
              "  </thead>\n",
              "  <tbody>\n",
              "    <tr>\n",
              "      <th>5</th>\n",
              "      <td>1.647586</td>\n",
              "      <td>0.408000</td>\n",
              "      <td>2.267871</td>\n",
              "      <td>0.156</td>\n",
              "    </tr>\n",
              "    <tr>\n",
              "      <th>6</th>\n",
              "      <td>1.573223</td>\n",
              "      <td>0.425667</td>\n",
              "      <td>0.978958</td>\n",
              "      <td>0.660</td>\n",
              "    </tr>\n",
              "    <tr>\n",
              "      <th>7</th>\n",
              "      <td>1.164893</td>\n",
              "      <td>0.597667</td>\n",
              "      <td>1.526910</td>\n",
              "      <td>0.482</td>\n",
              "    </tr>\n",
              "    <tr>\n",
              "      <th>8</th>\n",
              "      <td>0.968224</td>\n",
              "      <td>0.662667</td>\n",
              "      <td>1.273956</td>\n",
              "      <td>0.594</td>\n",
              "    </tr>\n",
              "    <tr>\n",
              "      <th>9</th>\n",
              "      <td>0.949160</td>\n",
              "      <td>0.678000</td>\n",
              "      <td>1.367350</td>\n",
              "      <td>0.504</td>\n",
              "    </tr>\n",
              "  </tbody>\n",
              "</table>\n",
              "</div>\n",
              "      <button class=\"colab-df-convert\" onclick=\"convertToInteractive('df-47cfcb20-2974-48ef-9532-ad2cbe08b90e')\"\n",
              "              title=\"Convert this dataframe to an interactive table.\"\n",
              "              style=\"display:none;\">\n",
              "        \n",
              "  <svg xmlns=\"http://www.w3.org/2000/svg\" height=\"24px\"viewBox=\"0 0 24 24\"\n",
              "       width=\"24px\">\n",
              "    <path d=\"M0 0h24v24H0V0z\" fill=\"none\"/>\n",
              "    <path d=\"M18.56 5.44l.94 2.06.94-2.06 2.06-.94-2.06-.94-.94-2.06-.94 2.06-2.06.94zm-11 1L8.5 8.5l.94-2.06 2.06-.94-2.06-.94L8.5 2.5l-.94 2.06-2.06.94zm10 10l.94 2.06.94-2.06 2.06-.94-2.06-.94-.94-2.06-.94 2.06-2.06.94z\"/><path d=\"M17.41 7.96l-1.37-1.37c-.4-.4-.92-.59-1.43-.59-.52 0-1.04.2-1.43.59L10.3 9.45l-7.72 7.72c-.78.78-.78 2.05 0 2.83L4 21.41c.39.39.9.59 1.41.59.51 0 1.02-.2 1.41-.59l7.78-7.78 2.81-2.81c.8-.78.8-2.07 0-2.86zM5.41 20L4 18.59l7.72-7.72 1.47 1.35L5.41 20z\"/>\n",
              "  </svg>\n",
              "      </button>\n",
              "      \n",
              "  <style>\n",
              "    .colab-df-container {\n",
              "      display:flex;\n",
              "      flex-wrap:wrap;\n",
              "      gap: 12px;\n",
              "    }\n",
              "\n",
              "    .colab-df-convert {\n",
              "      background-color: #E8F0FE;\n",
              "      border: none;\n",
              "      border-radius: 50%;\n",
              "      cursor: pointer;\n",
              "      display: none;\n",
              "      fill: #1967D2;\n",
              "      height: 32px;\n",
              "      padding: 0 0 0 0;\n",
              "      width: 32px;\n",
              "    }\n",
              "\n",
              "    .colab-df-convert:hover {\n",
              "      background-color: #E2EBFA;\n",
              "      box-shadow: 0px 1px 2px rgba(60, 64, 67, 0.3), 0px 1px 3px 1px rgba(60, 64, 67, 0.15);\n",
              "      fill: #174EA6;\n",
              "    }\n",
              "\n",
              "    [theme=dark] .colab-df-convert {\n",
              "      background-color: #3B4455;\n",
              "      fill: #D2E3FC;\n",
              "    }\n",
              "\n",
              "    [theme=dark] .colab-df-convert:hover {\n",
              "      background-color: #434B5C;\n",
              "      box-shadow: 0px 1px 3px 1px rgba(0, 0, 0, 0.15);\n",
              "      filter: drop-shadow(0px 1px 2px rgba(0, 0, 0, 0.3));\n",
              "      fill: #FFFFFF;\n",
              "    }\n",
              "  </style>\n",
              "\n",
              "      <script>\n",
              "        const buttonEl =\n",
              "          document.querySelector('#df-47cfcb20-2974-48ef-9532-ad2cbe08b90e button.colab-df-convert');\n",
              "        buttonEl.style.display =\n",
              "          google.colab.kernel.accessAllowed ? 'block' : 'none';\n",
              "\n",
              "        async function convertToInteractive(key) {\n",
              "          const element = document.querySelector('#df-47cfcb20-2974-48ef-9532-ad2cbe08b90e');\n",
              "          const dataTable =\n",
              "            await google.colab.kernel.invokeFunction('convertToInteractive',\n",
              "                                                     [key], {});\n",
              "          if (!dataTable) return;\n",
              "\n",
              "          const docLinkHtml = 'Like what you see? Visit the ' +\n",
              "            '<a target=\"_blank\" href=https://colab.research.google.com/notebooks/data_table.ipynb>data table notebook</a>'\n",
              "            + ' to learn more about interactive tables.';\n",
              "          element.innerHTML = '';\n",
              "          dataTable['output_type'] = 'display_data';\n",
              "          await google.colab.output.renderOutput(dataTable, element);\n",
              "          const docLink = document.createElement('div');\n",
              "          docLink.innerHTML = docLinkHtml;\n",
              "          element.appendChild(docLink);\n",
              "        }\n",
              "      </script>\n",
              "    </div>\n",
              "  </div>\n",
              "  "
            ]
          },
          "metadata": {},
          "execution_count": 31
        }
      ]
    },
    {
      "cell_type": "code",
      "source": [
        "results[[\"loss\",\"val_loss\"]].plot(title=\"loss\")\n",
        "plt.xlabel(\"epochs\")"
      ],
      "metadata": {
        "colab": {
          "base_uri": "https://localhost:8080/",
          "height": 313
        },
        "id": "5Am2ZEGnAPS9",
        "outputId": "4ad75172-1973-4e99-9f1c-3f64585db1c7"
      },
      "execution_count": 32,
      "outputs": [
        {
          "output_type": "execute_result",
          "data": {
            "text/plain": [
              "Text(0.5, 0, 'epochs')"
            ]
          },
          "metadata": {},
          "execution_count": 32
        },
        {
          "output_type": "display_data",
          "data": {
            "text/plain": [
              "<Figure size 432x288 with 1 Axes>"
            ],
            "image/png": "[encoded data removed]"
          },
          "metadata": {
            "needs_background": "light"
          }
        }
      ]
    },
    {
      "cell_type": "code",
      "source": [
        "results[[\"accuracy\",\"val_accuracy\"]].plot(title=\"accuracy\")\n",
        "plt.xlabel(\"epochs\")"
      ],
      "metadata": {
        "colab": {
          "base_uri": "https://localhost:8080/",
          "height": 313
        },
        "id": "rpMRFCgLAckm",
        "outputId": "28d9a8fd-17cf-452a-cfeb-78b9a7656c58"
      },
      "execution_count": 33,
      "outputs": [
        {
          "output_type": "execute_result",
          "data": {
            "text/plain": [
              "Text(0.5, 0, 'epochs')"
            ]
          },
          "metadata": {},
          "execution_count": 33
        },
        {
          "output_type": "display_data",
          "data": {
            "text/plain": [
              "<Figure size 432x288 with 1 Axes>"
            ],
            "image/png": "[encoded data removed]"
          },
          "metadata": {
            "needs_background": "light"
          }
        }
      ]
    }
  ]
}
